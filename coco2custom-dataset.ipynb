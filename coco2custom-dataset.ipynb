{
 "cells": [
  {
   "cell_type": "code",
   "execution_count": 5,
   "metadata": {},
   "outputs": [
    {
     "name": "stdout",
     "output_type": "stream",
     "text": [
      "Conversion completed. Data saved in building-segmentation/\n",
      "Train images: 418\n",
      "Validation images: 90\n",
      "Test images: 90\n"
     ]
    }
   ],
   "source": [
    "import os\n",
    "import shutil\n",
    "import numpy as np\n",
    "from PIL import Image, ImageDraw\n",
    "from sklearn.model_selection import train_test_split\n",
    "import json\n",
    "\n",
    "def convert_coco_to_custom(coco_json_path, coco_images_dir, output_dir, train_ratio=0.7, val_ratio=0.15, test_ratio=0.15):\n",
    "    # Создаем директории для выходных данных\n",
    "    os.makedirs(output_dir, exist_ok=True)\n",
    "    for split in ['train', 'val', 'test']:\n",
    "        os.makedirs(os.path.join(output_dir, split, 'images'), exist_ok=True)\n",
    "        os.makedirs(os.path.join(output_dir, split, 'masks'), exist_ok=True)\n",
    "\n",
    "    # Загружаем COCO аннотации\n",
    "    with open(coco_json_path, 'r') as f:\n",
    "        coco_data = json.load(f)\n",
    "\n",
    "    # Создаем словарь для быстрого доступа к аннотациям по image_id\n",
    "    image_to_annotations = {}\n",
    "    for ann in coco_data['annotations']:\n",
    "        image_id = ann['image_id']\n",
    "        if image_id not in image_to_annotations:\n",
    "            image_to_annotations[image_id] = []\n",
    "        image_to_annotations[image_id].append(ann)\n",
    "\n",
    "    # Получаем список всех изображений\n",
    "    all_images = coco_data['images']\n",
    "\n",
    "    # Разделяем изображения на train, val и test\n",
    "    train_val_images, test_images = train_test_split(all_images, test_size=test_ratio, random_state=42)\n",
    "    train_images, val_images = train_test_split(train_val_images, test_size=val_ratio/(train_ratio+val_ratio), random_state=42)\n",
    "\n",
    "    # Функция для обработки и сохранения изображений и масок\n",
    "    def process_images(images, split):\n",
    "        for img in images:\n",
    "            # Копируем изображение\n",
    "            src_path = os.path.join(coco_images_dir, img['file_name'])\n",
    "            dst_path = os.path.join(output_dir, split, 'images', img['file_name'])\n",
    "            shutil.copy(src_path, dst_path)\n",
    "\n",
    "            # Создаем маску\n",
    "            mask = Image.new('L', (img['width'], img['height']), 0)\n",
    "            draw = ImageDraw.Draw(mask)\n",
    "            if img['id'] in image_to_annotations:\n",
    "                for i, ann in enumerate(image_to_annotations[img['id']], start=1):\n",
    "                    for seg in ann['segmentation']:\n",
    "                        polygon = np.array(seg).reshape(-1, 2)\n",
    "                        draw.polygon(polygon.flatten().tolist(), outline=i, fill=i)\n",
    "\n",
    "            # Сохраняем маску\n",
    "            mask_path = os.path.join(output_dir, split, 'masks', os.path.splitext(img['file_name'])[0] + '.png')\n",
    "            mask.save(mask_path)\n",
    "\n",
    "    # Обрабатываем и сохраняем изображения для каждой выборки\n",
    "    process_images(train_images, 'train')\n",
    "    process_images(val_images, 'val')\n",
    "    process_images(test_images, 'test')\n",
    "\n",
    "    print(f\"Conversion completed. Data saved in {output_dir}\")\n",
    "    print(f\"Train images: {len(train_images)}\")\n",
    "    print(f\"Validation images: {len(val_images)}\")\n",
    "    print(f\"Test images: {len(test_images)}\")\n",
    "\n",
    "# Пример использования\n",
    "coco_json_path = 'building-segmentation-coco/annotations/instances_default.json'\n",
    "coco_images_dir = 'building-segmentation-coco/images'\n",
    "output_dir = 'building-segmentation/'\n",
    "\n",
    "convert_coco_to_custom(coco_json_path, coco_images_dir, output_dir)\n"
   ]
  },
  {
   "cell_type": "code",
   "execution_count": null,
   "metadata": {},
   "outputs": [],
   "source": []
  }
 ],
 "metadata": {
  "kernelspec": {
   "display_name": "base",
   "language": "python",
   "name": "python3"
  },
  "language_info": {
   "codemirror_mode": {
    "name": "ipython",
    "version": 3
   },
   "file_extension": ".py",
   "mimetype": "text/x-python",
   "name": "python",
   "nbconvert_exporter": "python",
   "pygments_lexer": "ipython3",
   "version": "3.11.7"
  }
 },
 "nbformat": 4,
 "nbformat_minor": 2
}
